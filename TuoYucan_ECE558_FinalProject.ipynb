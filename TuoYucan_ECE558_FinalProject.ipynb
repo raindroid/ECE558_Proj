{
 "cells": [
  {
   "cell_type": "code",
   "execution_count": 1,
   "id": "e009ff0b",
   "metadata": {},
   "outputs": [
    {
     "name": "stderr",
     "output_type": "stream",
     "text": [
      "/home/rain/anaconda3/envs/ece558/lib/python3.10/site-packages/numpy/core/getlimits.py:500: UserWarning: The value of the smallest subnormal for <class 'numpy.float32'> type is zero.\n",
      "  setattr(self, word, getattr(machar, word).flat[0])\n",
      "/home/rain/anaconda3/envs/ece558/lib/python3.10/site-packages/numpy/core/getlimits.py:89: UserWarning: The value of the smallest subnormal for <class 'numpy.float32'> type is zero.\n",
      "  return self._float_to_str(self.smallest_subnormal)\n",
      "/home/rain/anaconda3/envs/ece558/lib/python3.10/site-packages/numpy/core/getlimits.py:500: UserWarning: The value of the smallest subnormal for <class 'numpy.float64'> type is zero.\n",
      "  setattr(self, word, getattr(machar, word).flat[0])\n",
      "/home/rain/anaconda3/envs/ece558/lib/python3.10/site-packages/numpy/core/getlimits.py:89: UserWarning: The value of the smallest subnormal for <class 'numpy.float64'> type is zero.\n",
      "  return self._float_to_str(self.smallest_subnormal)\n"
     ]
    }
   ],
   "source": [
    "import numpy as np\n",
    "import matplotlib.pyplot as plt\n",
    "import meep as mp\n",
    "from meep import mpb\n",
    "\n",
    "# Other utilities\n",
    "import time\n",
    "from IPython.utils import io"
   ]
  },
  {
   "cell_type": "code",
   "execution_count": 4,
   "id": "91a414b4",
   "metadata": {},
   "outputs": [
    {
     "name": "stdout",
     "output_type": "stream",
     "text": [
      "Working in 3 dimensions.\n",
      "Grid size is 1 x 128 x 128.\n",
      "Solving for 1 bands at a time.\n",
      "Creating Maxwell data...\n",
      "Mesh size is 3.\n",
      "Lattice vectors:\n",
      "     (1, 0, 0)\n",
      "     (0, 4, 0)\n",
      "     (0, 0, 4)\n",
      "Cell volume = 16\n",
      "Reciprocal lattice vectors (/ 2 pi):\n",
      "     (1, -0, 0)\n",
      "     (-0, 0.25, -0)\n",
      "     (0, -0, 0.25)\n",
      "Geometric objects:\n",
      "     block, center = (0,0,0)\n",
      "          size (1e+20,0.175,0.15)\n",
      "          axes (1,0,0), (0,1,0), (0,0,1)\n",
      "Geometric object tree has depth 1 and 1 object nodes (vs. 1 actual objects)\n",
      "Initializing epsilon function...\n",
      "Allocating fields...\n",
      "Solving for band polarization: .\n",
      "Initializing fields to random numbers...\n",
      "epsilon: 2.4087-12.0647, mean 2.42455, harm. mean 2.41241, 100% > 1, 0.164063% \"fill\"\n"
     ]
    },
    {
     "data": {
      "image/png": "[encoded data removed]",
      "text/plain": [
       "<Figure size 600x400 with 2 Axes>"
      ]
     },
     "metadata": {},
     "output_type": "display_data"
    }
   ],
   "source": [
    "# 1.   Compute the Effective Index Difference of Two Photochromic States in a fully cladded STRIP Waveguide\n",
    "# 1.1. Photochromic State 1\n",
    "\n",
    "# Simulation parameters\n",
    "sc_y = 4 # supercell width (um)\n",
    "sc_z = 4 # supercell height (um)\n",
    "resolution = 32 # simulation resolution (pixels/um)\n",
    "geometry_lattice = mp.Lattice(size=mp.Vector3(0, sc_y, sc_z))\n",
    "\n",
    "# Waveguide definition\n",
    "wl = 1.55 # args.wl # wavelength (um)\n",
    "h = 0.150  # Si height (um) # 150 nm as in Bilodeau paper\n",
    "w = 0.175 # waveguide width (um) # 175 nm as in Bilodeau paper \n",
    "Si = mp.Medium(index=3.47343) # Silicon index @ 1550 nm\n",
    "PC1 = mp.Medium(index=1.552) # Photochromic State 1 index\n",
    "geometry = [mp.Block(size=mp.Vector3(mp.inf, w, h), center=mp.Vector3(), material=Si)]\n",
    "\n",
    "ms = mpb.ModeSolver(\n",
    "    geometry_lattice=geometry_lattice,\n",
    "    geometry=geometry,\n",
    "    resolution=resolution,\n",
    "    default_material=PC1) # PC is fully covering the waveguide.\n",
    "ms.init_params(mp.NO_PARITY, True)\n",
    "\n",
    "\n",
    "# Waveguide Geometry Visualization\n",
    "fig, ax = plt.subplots(figsize=(6, 4))\n",
    "\n",
    "n = np.sqrt(ms.get_epsilon())\n",
    "\n",
    "pos = ax.imshow(n.T, cmap='gray_r', interpolation='spline36', extent=[-sc_y/2,sc_y/2,-sc_z/2,sc_z/2] )\n",
    "cbar = fig.colorbar(pos, ax=ax)\n",
    "cbar.set_label('n')\n",
    "ax.set_xlabel('y')\n",
    "ax.set_ylabel('z')\n",
    "plt.show()"
   ]
  },
  {
   "cell_type": "code",
   "execution_count": 4,
   "id": "43204dd1",
   "metadata": {},
   "outputs": [],
   "source": [
    "# Definition of the formula for effective index of a fully cladded STRIP waveguide\n",
    "\n",
    "def neff_strip(N=1, w=0.5, wl=1.55, h=0.22, wg=3.47343, cd=1.552, sc_y=4, sc_z=4, res=64):\n",
    "    '''\n",
    "    Author:        Simon Bilodeau\n",
    "    Date:          2021-02-07\n",
    "    Title:         Silicon photonic strip waveguide simulation\n",
    "    Script returning the first n effective indices of a silicon photonic strip waveguide\n",
    "    Accounts for material dispersion of the silicon using a Lorentz model\n",
    "    \n",
    "    w (float) : width of the waveguide (microns)\n",
    "    h (float) : heigth of the waveguide (microns)\n",
    "    wg (float) : refractive index of the waveguide\n",
    "    cd (float) : refractive index of the cladding\n",
    "    wl (float) : wavelength of the simulation (microns)\n",
    "    n (int) : number of modes to return                                                   \n",
    "    sc_y (float) : width of the simulation (microns)\n",
    "    sc_z (float) : heigth of the simulation (microns)\n",
    "    res (int) : resolution of the simulation (pixels/micron)\n",
    "    '''\n",
    "    # Simulation parameters\n",
    "    geometry_lattice = mp.Lattice(size=mp.Vector3(0, sc_y, sc_z))\n",
    "\n",
    "    # Waveguide definition\n",
    "    wgm = mp.Medium(index=wg) # index of the waveguide material\n",
    "    cdm = mp.Medium(index=cd) # index of the cladding material\n",
    "    geometry = [mp.Block(size=mp.Vector3(mp.inf, w, h), center=mp.Vector3(), material=wgm)]\n",
    "\n",
    "    # Inverse simulation parameters\n",
    "    f_mode = 1/wl   # frequency corresponding to desired wavelength (in um) \n",
    "    band_min = 1 \n",
    "    band_max = N\n",
    "    kdir = mp.Vector3(1) # Our waveguide is along the x direction\n",
    "    tol = 1e-6 # Iterative solver stop condition\n",
    "    kmag_guess = f_mode*3.45 # Initial guess\n",
    "    kmag_min = f_mode*0.1; kmag_max = f_mode*4.0 # Some search range\n",
    "\n",
    "    # ModeSolver object\n",
    "    # Some of these are superfluous since we never actually run the forward simulation (e.g. k_points)\n",
    "    ms = mpb.ModeSolver(\n",
    "        geometry_lattice=geometry_lattice, # Give it simulation domain\n",
    "        geometry=geometry, # Give it geometry to simulate\n",
    "        resolution=res, # Give it discretization level\n",
    "        default_material=cdm # Fully cladded by photochromic\n",
    "        )\n",
    "\n",
    "    # Do the simulation\n",
    "    k_fmode = ms.find_k(mp.NO_PARITY, f_mode, band_min, band_max, kdir, tol, kmag_guess,\n",
    "              kmag_min, kmag_max)\n",
    "\n",
    "    # Compute effective index\n",
    "    ns_to_return = []\n",
    "    for i in range(N):\n",
    "        ns_to_return.append(k_fmode[i] / f_mode)\n",
    "    \n",
    "    return ns_to_return"
   ]
  },
  {
   "cell_type": "code",
   "execution_count": 22,
   "id": "c69e094c",
   "metadata": {},
   "outputs": [
    {
     "name": "stdout",
     "output_type": "stream",
     "text": [
      "w = 0.175, neffs = [1.5316107519809667, 1.5272954190408579, 1.4563801627032285, 1.448162026346958]\n"
     ]
    }
   ],
   "source": [
    "# Calculation of the effective indeices for the first four (N = 4) modes,\n",
    "# and they are corresponding to TE0, TM0, TE1, and TM1 respectively, from the first to the fourth mode.\n",
    "# System: strip Si waveguide (n=3.47343) fully cladded by state 1 photochromic (n=1.552)\n",
    "\n",
    "neffs_strip_list_Si_PC1 = []\n",
    "\n",
    "with io.capture_output() as captured:\n",
    "    current_neff = neff_strip(N=4, w=0.175, wl=1.55, h=0.150, wg=3.47343, cd=1.552, sc_y=3, sc_z=3, res=32)\n",
    "print('w = {0}, neffs = {1}'.format(w, current_neff))\n",
    "neffs_strip_list_Si_PC1.append([w, current_neff])"
   ]
  },
  {
   "cell_type": "code",
   "execution_count": 23,
   "id": "5f1d5765",
   "metadata": {},
   "outputs": [
    {
     "name": "stdout",
     "output_type": "stream",
     "text": [
      "w = 0.175, neffs = [1.572241943393602, 1.566944952913445, 1.497160848822211, 1.4883705532502287]\n"
     ]
    }
   ],
   "source": [
    "# 1.2. Photochromic State 2\n",
    "\n",
    "# Calculation of the effective indeices for the first four (N = 4) modes,\n",
    "# and they are corresponding to TE0, TM0, TE1, and TM1 respectively, from the first to the fourth mode.\n",
    "# System: strip Si waveguide (n=3.47343) fully cladded by state 2 photochromic (n=1.598)\n",
    "\n",
    "neffs_strip_list_Si_PC2 = []\n",
    "\n",
    "with io.capture_output() as captured:\n",
    "    current_neff = neff_strip(N=4, w=0.175, wl=1.55, h=0.150, wg=3.47343, cd=1.598, sc_y=3, sc_z=3, res=32)\n",
    "print('w = {0}, neffs = {1}'.format(w, current_neff))\n",
    "neffs_strip_list_Si_PC2.append([w, current_neff])"
   ]
  },
  {
   "cell_type": "code",
   "execution_count": 9,
   "id": "bb76049b",
   "metadata": {},
   "outputs": [
    {
     "name": "stdout",
     "output_type": "stream",
     "text": [
      "Working in 3 dimensions.\n",
      "Grid size is 1 x 128 x 128.\n",
      "Solving for 1 bands at a time.\n",
      "Creating Maxwell data...\n",
      "Mesh size is 3.\n",
      "Lattice vectors:\n",
      "     (1, 0, 0)\n",
      "     (0, 4, 0)\n",
      "     (0, 0, 4)\n",
      "Cell volume = 16\n",
      "Reciprocal lattice vectors (/ 2 pi):\n",
      "     (1, -0, 0)\n",
      "     (-0, 0.25, -0)\n",
      "     (0, -0, 0.25)\n",
      "Geometric objects:\n",
      "     block, center = (0,0,0)\n",
      "          size (1e+20,0.175,0.15)\n",
      "          axes (1,0,0), (0,1,0), (0,0,1)\n",
      "     block, center = (0,0,1.0375)\n",
      "          size (1e+20,1e+20,1.925)\n",
      "          axes (1,0,0), (0,1,0), (0,0,1)\n",
      "Geometric object tree has depth 2 and 8 object nodes (vs. 2 actual objects)\n",
      "Initializing epsilon function...\n",
      "Allocating fields...\n",
      "Solving for band polarization: .\n",
      "Initializing fields to random numbers...\n",
      "epsilon: 2.08514-12.0647, mean 2.26891, harm. mean 2.24468, 100% > 1, 1.84146% \"fill\"\n"
     ]
    },
    {
     "data": {
      "image/png": "[encoded data removed]",
      "text/plain": [
       "<Figure size 600x400 with 2 Axes>"
      ]
     },
     "metadata": {},
     "output_type": "display_data"
    }
   ],
   "source": [
    "# 2.   Compute the Effective Index Difference of Two Photochromic States \n",
    "#        in a STRIP Waveguide Top-Cladded by Photochromic and Bottom-Cladded by SiO2\n",
    "\n",
    "# Simulation parameters\n",
    "sc_y = 4 # supercell width (um)\n",
    "sc_z = 4 # supercell height (um)\n",
    "resolution = 32 # simulation resolution (pixels/um)\n",
    "geometry_lattice = mp.Lattice(size=mp.Vector3(0, sc_y, sc_z))\n",
    "\n",
    "# Waveguide definition\n",
    "wl = 1.55 # args.wl # wavelength (um)\n",
    "h = 0.150  # Si height (um) # 150 nm as in Bilodeau paper\n",
    "w = 0.175 # waveguide width (um) # 175 nm as in Bilodeau paper \n",
    "Si = mp.Medium(index=3.47343) # Silicon index @ 1550 nm\n",
    "PC1 = mp.Medium(index=1.552) # Photochromic State 1 index\n",
    "SiO2 = mp.Medium(index=1.444) # SiO2 bottom cladding index\n",
    "geometry = [mp.Block(size=mp.Vector3(mp.inf, w, h),center=mp.Vector3(), material=Si),\n",
    "            mp.Block(size=mp.Vector3(mp.inf, mp.inf, 0.5*sc_z-0.5*h),center=mp.Vector3(0,0,0.25*sc_z+0.25*h), material=SiO2)]\n",
    "\n",
    "ms = mpb.ModeSolver(\n",
    "    geometry_lattice=geometry_lattice,\n",
    "    geometry=geometry,\n",
    "    resolution=resolution,\n",
    "    default_material=PC1) # PC is fully covering the waveguide.\n",
    "ms.init_params(mp.NO_PARITY, True)\n",
    "\n",
    "\n",
    "# Waveguide Geometry Visualization\n",
    "fig, ax = plt.subplots(figsize=(6, 4))\n",
    "\n",
    "n = np.sqrt(ms.get_epsilon())\n",
    "\n",
    "pos = ax.imshow(n.T, cmap='gray_r', interpolation='spline36', extent=[-sc_y/2,sc_y/2,-sc_z/2,sc_z/2] )\n",
    "cbar = fig.colorbar(pos, ax=ax)\n",
    "cbar.set_label('n')\n",
    "ax.set_xlabel('y')\n",
    "ax.set_ylabel('z')\n",
    "plt.show()"
   ]
  },
  {
   "cell_type": "code",
   "execution_count": 12,
   "id": "a5e062a0",
   "metadata": {},
   "outputs": [],
   "source": [
    "# Definition of the formula for effective index of a STRIP waveguide top-cladded by photochromic and bottom-cladded by SiO2\n",
    "\n",
    "def neff_strip_SiO2(N=1, w=0.5, wl=1.55, h=0.22, wg=3.47343, cd=1.552, sc_y=4, sc_z=4, res=64):\n",
    "    '''\n",
    "    Author:        Simon Bilodeau\n",
    "    Date:          2021-02-07\n",
    "    Title:         Silicon photonic strip waveguide simulation\n",
    "    Script returning the first n effective indices of a silicon photonic strip waveguide\n",
    "    Accounts for material dispersion of the silicon using a Lorentz model\n",
    "    \n",
    "    w (float) : width of the waveguide (microns)\n",
    "    h (float) : heigth of the waveguide (microns)\n",
    "    wg (float) : refractive index of the waveguide\n",
    "    cd (float) : refractive index of the top-cladding\n",
    "    wl (float) : wavelength of the simulation (microns)\n",
    "    n (int) : number of modes to return                                                    \n",
    "    sc_y (float) : width of the simulation (microns)\n",
    "    sc_z (float) : heigth of the simulation (microns)\n",
    "    res (int) : resolution of the simulation (pixels/micron)\n",
    "    '''\n",
    "    # Simulation parameters\n",
    "    geometry_lattice = mp.Lattice(size=mp.Vector3(0, sc_y, sc_z))\n",
    "\n",
    "    # Waveguide definition\n",
    "    SiO2 = mp.Medium(index=1.444) # SiO2 bottom cladding index\n",
    "    wgm = mp.Medium(index=wg) # index of the waveguide material\n",
    "    cdm = mp.Medium(index=cd) # index of the cladding material\n",
    "    geometry = [mp.Block(size=mp.Vector3(mp.inf, w, h),center=mp.Vector3(), material=wgm),\n",
    "                mp.Block(size=mp.Vector3(mp.inf, mp.inf, 0.5*sc_z-0.5*h),center=mp.Vector3(0,0,0.25*sc_z+0.25*h), material=SiO2)]\n",
    "\n",
    "    # Inverse simulation parameters\n",
    "    f_mode = 1/wl   # frequency corresponding to desired wavelength (in um) \n",
    "    band_min = 1 \n",
    "    band_max = N\n",
    "    kdir = mp.Vector3(1) # Our waveguide is along the x direction\n",
    "    tol = 1e-6 # Iterative solver stop condition\n",
    "    kmag_guess = f_mode*3.45 # Initial guess\n",
    "    kmag_min = f_mode*0.1; kmag_max = f_mode*4.0 # Some search range\n",
    "\n",
    "    # ModeSolver object\n",
    "    # Some of these are superfluous since we never actually run the forward simulation (e.g. k_points)\n",
    "    ms = mpb.ModeSolver(\n",
    "        geometry_lattice=geometry_lattice, # Give it simulation domain\n",
    "        geometry=geometry, # Give it geometry to simulate\n",
    "        resolution=res, # Give it discretization level\n",
    "        default_material=cdm # Top-cladded by Photochromic\n",
    "        )\n",
    "\n",
    "    # Do the simulation\n",
    "    k_fmode = ms.find_k(mp.NO_PARITY, f_mode, band_min, band_max, kdir, tol, kmag_guess,\n",
    "              kmag_min, kmag_max)\n",
    "\n",
    "    # Compute effective index\n",
    "    ns_to_return = []\n",
    "    for i in range(N):\n",
    "        ns_to_return.append(k_fmode[i] / f_mode)\n",
    "    \n",
    "    return ns_to_return"
   ]
  },
  {
   "cell_type": "code",
   "execution_count": 24,
   "id": "6c794981",
   "metadata": {},
   "outputs": [
    {
     "name": "stdout",
     "output_type": "stream",
     "text": [
      "w = 0.175, neffs = [1.5316107307697047, 1.527295410863475, 1.4563801388839752, 1.4481620263469572]\n"
     ]
    }
   ],
   "source": [
    "# Calculation of the effective indeices for the first four (N = 4) modes,\n",
    "# and they are corresponding to TE0, TM0, TE1, and TM1 respectively, from the first to the fourth mode.\n",
    "# System: strip Si waveguide (n=3.47343) top cladded by state 1 photochromic (n=1.552), bottom cladded by SiO2\n",
    "\n",
    "neffs_strip_list_Si_PC1_SiO2 = []\n",
    "\n",
    "with io.capture_output() as captured:\n",
    "    current_neff = neff_strip_SiO2(N=4, w=0.175, wl=1.55, h=0.150, wg=3.47343, cd=1.552, sc_y=3, sc_z=3, res=32)\n",
    "print('w = {0}, neffs = {1}'.format(w, current_neff))\n",
    "neffs_strip_list_Si_PC1_SiO2.append([w, current_neff])"
   ]
  },
  {
   "cell_type": "code",
   "execution_count": 29,
   "id": "e79d38ab",
   "metadata": {},
   "outputs": [
    {
     "name": "stdout",
     "output_type": "stream",
     "text": [
      "w = 0.175, neffs = [1.5722418512171517, 1.5669449196252105, 1.4971610478858488, 1.4883705688941704]\n"
     ]
    }
   ],
   "source": [
    "# Calculation of the effective indeices for the first four (N = 4) modes,\n",
    "# and they are corresponding to TE0, TM0, TE1, and TM1 respectively, from the first to the fourth mode.\n",
    "# System: strip Si waveguide (n=3.47343) top-cladded by state 2 photochromic (n=1.598), bottom-cladded by SiO2\n",
    "\n",
    "neffs_strip_list_Si_PC2_SiO2 = []\n",
    "\n",
    "with io.capture_output() as captured:\n",
    "    current_neff = neff_strip_SiO2(N=4, w=0.175, wl=1.55, h=0.150, wg=3.47343, cd=1.598, sc_y=3, sc_z=3, res=32)\n",
    "print('w = {0}, neffs = {1}'.format(w, current_neff))\n",
    "neffs_strip_list_Si_PC2_SiO2.append([w, current_neff])"
   ]
  },
  {
   "cell_type": "code",
   "execution_count": 31,
   "id": "515e23a1",
   "metadata": {},
   "outputs": [
    {
     "name": "stdout",
     "output_type": "stream",
     "text": [
      "Working in 3 dimensions.\n",
      "Grid size is 1 x 128 x 128.\n",
      "Solving for 1 bands at a time.\n",
      "Creating Maxwell data...\n",
      "Mesh size is 3.\n",
      "Lattice vectors:\n",
      "     (1, 0, 0)\n",
      "     (0, 4, 0)\n",
      "     (0, 0, 4)\n",
      "Cell volume = 16\n",
      "Reciprocal lattice vectors (/ 2 pi):\n",
      "     (1, -0, 0)\n",
      "     (-0, 0.25, -0)\n",
      "     (0, -0, 0.25)\n",
      "Geometric objects:\n",
      "     block, center = (0,0.1275,0)\n",
      "          size (1e+20,0.175,0.15)\n",
      "          axes (1,0,0), (0,1,0), (0,0,1)\n",
      "     block, center = (0,-0.1275,0)\n",
      "          size (1e+20,0.175,0.15)\n",
      "          axes (1,0,0), (0,1,0), (0,0,1)\n",
      "     block, center = (0,0,1.0375)\n",
      "          size (1e+20,1e+20,1.925)\n",
      "          axes (1,0,0), (0,1,0), (0,0,1)\n",
      "Geometric object tree has depth 2 and 10 object nodes (vs. 3 actual objects)\n",
      "Initializing epsilon function...\n",
      "Allocating fields...\n",
      "Solving for band polarization: .\n",
      "Initializing fields to random numbers...\n",
      "epsilon: 2.08514-12.0647, mean 2.28483, harm. mean 2.24791, 100% > 1, 2.00099% \"fill\"\n"
     ]
    },
    {
     "data": {
      "image/png": "[encoded data removed]",
      "text/plain": [
       "<Figure size 600x400 with 2 Axes>"
      ]
     },
     "metadata": {},
     "output_type": "display_data"
    }
   ],
   "source": [
    "# 3.   Compute the Effective Index Difference of Two Photochromic States \n",
    "#        in a SLOT Waveguide Top-Cladded by Photochromic and Bottom-Cladded by SiO2\n",
    "\n",
    "# Simulation parameters\n",
    "sc_y = 4 # supercell width (um)\n",
    "sc_z = 4 # supercell height (um)\n",
    "resolution = 32 # simulation resolution (pixels/um)\n",
    "geometry_lattice = mp.Lattice(size=mp.Vector3(0, sc_y, sc_z))\n",
    "\n",
    "# Waveguide definition\n",
    "wl = 1.55 # args.wl # wavelength (um)\n",
    "h = 0.150  # Si height (um) # 150 nm as in Bilodeau paper\n",
    "w = 0.175 # waveguide width (um) # 175 nm as in Bilodeau paper \n",
    "ws = 0.08 # slot width (um) # 80 nm as in Bilodeau paper\n",
    "Si = mp.Medium(index=3.47343) # Silicon index @ 1550 nm\n",
    "PC1 = mp.Medium(index=1.552) # Photochromic State 1 index\n",
    "SiO2 = mp.Medium(index=1.444) # SiO2 bottom cladding index\n",
    "geometry = [mp.Block(size=mp.Vector3(mp.inf, w, h),center=mp.Vector3(0,0.5*w+0.5*ws,0), material=Si),\n",
    "            mp.Block(size=mp.Vector3(mp.inf, w, h),center=mp.Vector3(0,-0.5*w-0.5*ws,0), material=Si),\n",
    "            mp.Block(size=mp.Vector3(mp.inf, mp.inf, 0.5*sc_z-0.5*h),center=mp.Vector3(0,0,0.25*sc_z+0.25*h), material=SiO2)]\n",
    "\n",
    "ms = mpb.ModeSolver(\n",
    "    geometry_lattice=geometry_lattice,\n",
    "    geometry=geometry,\n",
    "    resolution=resolution,\n",
    "    default_material=PC1) # PC is fully covering the waveguide.\n",
    "ms.init_params(mp.NO_PARITY, True)\n",
    "\n",
    "\n",
    "# Waveguide Geometry Visualization\n",
    "fig, ax = plt.subplots(figsize=(6, 4))\n",
    "\n",
    "n = np.sqrt(ms.get_epsilon())\n",
    "\n",
    "pos = ax.imshow(n.T, cmap='gray_r', interpolation='spline36', extent=[-sc_y/2,sc_y/2,-sc_z/2,sc_z/2] )\n",
    "cbar = fig.colorbar(pos, ax=ax)\n",
    "cbar.set_label('n')\n",
    "ax.set_xlabel('y')\n",
    "ax.set_ylabel('z')\n",
    "plt.show()"
   ]
  },
  {
   "cell_type": "code",
   "execution_count": 32,
   "id": "894acf04",
   "metadata": {},
   "outputs": [],
   "source": [
    "# Definition of the formula for effective index of a STRIP waveguide top-cladded by photochromic and bottom-cladded by SiO2\n",
    "\n",
    "def neff_slot_SiO2(N=1, w=0.5, wl=1.55, h=0.22, ws=0.08, wg=3.47343, cd=1.552, sc_y=4, sc_z=4, res=64):\n",
    "    '''\n",
    "    Author:        Simon Bilodeau\n",
    "    Date:          2021-02-07\n",
    "    Title:         Silicon photonic strip waveguide simulation\n",
    "    Script returning the first n effective indices of a silicon photonic strip waveguide\n",
    "    Accounts for material dispersion of the silicon using a Lorentz model\n",
    "    \n",
    "    w (float) : width of the waveguide (microns)\n",
    "    h (float) : heigth of the waveguide (microns)\n",
    "    ws (float) : width of the slot (microns)\n",
    "    wg (float) : refractive index of the waveguide\n",
    "    cd (float) : refractive index of the top-cladding\n",
    "    wl (float) : wavelength of the simulation (microns)\n",
    "    n (int) : number of modes to return                                                    \n",
    "    sc_y (float) : width of the simulation (microns)\n",
    "    sc_z (float) : heigth of the simulation (microns)\n",
    "    res (int) : resolution of the simulation (pixels/micron)\n",
    "    '''\n",
    "    # Simulation parameters\n",
    "    geometry_lattice = mp.Lattice(size=mp.Vector3(0, sc_y, sc_z))\n",
    "\n",
    "    # Waveguide definition\n",
    "    SiO2 = mp.Medium(index=1.444) # SiO2 bottom cladding index\n",
    "    wgm = mp.Medium(index=wg) # index of the waveguide material\n",
    "    cdm = mp.Medium(index=cd) # index of the cladding material\n",
    "    geometry = [mp.Block(size=mp.Vector3(mp.inf, w, h),center=mp.Vector3(0,0.5*w+0.5*ws,0), material=Si),\n",
    "                mp.Block(size=mp.Vector3(mp.inf, w, h),center=mp.Vector3(0,-0.5*w-0.5*ws,0), material=Si),\n",
    "                mp.Block(size=mp.Vector3(mp.inf, mp.inf, 0.5*sc_z-0.5*h),center=mp.Vector3(0,0,0.25*sc_z+0.25*h), material=SiO2)]\n",
    "    \n",
    "    # Inverse simulation parameters\n",
    "    f_mode = 1/wl   # frequency corresponding to desired wavelength (in um) \n",
    "    band_min = 1 \n",
    "    band_max = N\n",
    "    kdir = mp.Vector3(1) # Our waveguide is along the x direction\n",
    "    tol = 1e-6 # Iterative solver stop condition\n",
    "    kmag_guess = f_mode*3.45 # Initial guess\n",
    "    kmag_min = f_mode*0.1; kmag_max = f_mode*4.0 # Some search range\n",
    "\n",
    "    # ModeSolver object\n",
    "    # Some of these are superfluous since we never actually run the forward simulation (e.g. k_points)\n",
    "    ms = mpb.ModeSolver(\n",
    "        geometry_lattice=geometry_lattice, # Give it simulation domain\n",
    "        geometry=geometry, # Give it geometry to simulate\n",
    "        resolution=res, # Give it discretization level\n",
    "        default_material=cdm # Top-cladded by Photochromic\n",
    "        )\n",
    "\n",
    "    # Do the simulation\n",
    "    k_fmode = ms.find_k(mp.NO_PARITY, f_mode, band_min, band_max, kdir, tol, kmag_guess,\n",
    "              kmag_min, kmag_max)\n",
    "\n",
    "    # Compute effective index\n",
    "    ns_to_return = []\n",
    "    for i in range(N):\n",
    "        ns_to_return.append(k_fmode[i] / f_mode)\n",
    "    \n",
    "    return ns_to_return"
   ]
  },
  {
   "cell_type": "code",
   "execution_count": 33,
   "id": "1a1e97f2",
   "metadata": {},
   "outputs": [
    {
     "name": "stdout",
     "output_type": "stream",
     "text": [
      "w = 0.175, neffs = [1.5909816393327232, 1.5407586496703443, 1.4976478457653852, 1.4685702261390594]\n"
     ]
    }
   ],
   "source": [
    "# Calculation of the effective indeices for the first four (N = 4) modes,\n",
    "# and they are corresponding to TE0, TM0, TE1, and TM1 respectively, from the first to the fourth mode.\n",
    "# System: SLOT Si waveguide (n=3.47343) top cladded by state 1 photochromic (n=1.552), bottom cladded by SiO2\n",
    "\n",
    "neffs_slot_list_Si_PC1_SiO2 = []\n",
    "\n",
    "with io.capture_output() as captured:\n",
    "    current_neff = neff_slot_SiO2(N=4, w=0.175, wl=1.55, h=0.150, ws=0.08, wg=3.47343, cd=1.552, sc_y=3, sc_z=3, res=32)\n",
    "print('w = {0}, neffs = {1}'.format(w, current_neff))\n",
    "neffs_slot_list_Si_PC1_SiO2.append([w, current_neff])"
   ]
  },
  {
   "cell_type": "code",
   "execution_count": 34,
   "id": "a33e4428",
   "metadata": {},
   "outputs": [
    {
     "name": "stdout",
     "output_type": "stream",
     "text": [
      "w = 0.175, neffs = [1.6288764072796056, 1.5794450651612317, 1.5393678185137916, 1.507728044826682]\n"
     ]
    }
   ],
   "source": [
    "# Calculation of the effective indeices for the first four (N = 4) modes,\n",
    "# and they are corresponding to TE0, TM0, TE1, and TM1 respectively, from the first to the fourth mode.\n",
    "# System: SLOT Si waveguide (n=3.47343) top cladded by state 2 photochromic (n=1.598), bottom cladded by SiO2\n",
    "\n",
    "neffs_slot_list_Si_PC2_SiO2 = []\n",
    "\n",
    "with io.capture_output() as captured:\n",
    "    current_neff = neff_slot_SiO2(N=4, w=0.175, wl=1.55, h=0.150, ws=0.08, wg=3.47343, cd=1.598, sc_y=3, sc_z=3, res=32)\n",
    "print('w = {0}, neffs = {1}'.format(w, current_neff))\n",
    "neffs_slot_list_Si_PC2_SiO2.append([w, current_neff])"
   ]
  }
 ],
 "metadata": {
  "kernelspec": {
   "display_name": "Python 3.10.6 ('ece558')",
   "language": "python",
   "name": "python3"
  },
  "language_info": {
   "codemirror_mode": {
    "name": "ipython",
    "version": 3
   },
   "file_extension": ".py",
   "mimetype": "text/x-python",
   "name": "python",
   "nbconvert_exporter": "python",
   "pygments_lexer": "ipython3",
   "version": "3.10.6"
  },
  "vscode": {
   "interpreter": {
    "hash": "f979ca476398b97d976823f6e8ae81e3924a06a3b6bdf31263ede0fcb78f5f0f"
   }
  }
 },
 "nbformat": 4,
 "nbformat_minor": 5
}
